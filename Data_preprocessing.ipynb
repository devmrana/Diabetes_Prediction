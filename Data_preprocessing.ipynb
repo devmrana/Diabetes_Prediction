{
 "cells": [
  {
   "cell_type": "code",
   "execution_count": 5,
   "id": "0108e61e",
   "metadata": {},
   "outputs": [],
   "source": [
    "import numpy as np\n",
    "from sklearn import preprocessing as pp\n",
    "input_data = np.array([\n",
    "                        [5.1, -2.9, 3.3],\n",
    "                        [-1.2, 7.8, -6.1],\n",
    "                        [3.9, 0.4, 2.1],\n",
    "                        [7.3, -9.9, -4.5]])\n",
    "#print(input_data)"
   ]
  },
  {
   "cell_type": "code",
   "execution_count": 6,
   "id": "7021bb4b",
   "metadata": {},
   "outputs": [],
   "source": [
    "# Binarized Data\n",
    "b_d = preprocessing.Binarizer(threshold=0).transform(input_data)\n",
    "#print(b_d)"
   ]
  },
  {
   "cell_type": "code",
   "execution_count": 12,
   "id": "7c23a0f7",
   "metadata": {},
   "outputs": [],
   "source": [
    "# Min_Max Scalling\n",
    "mms = pp.MinMaxScaler(feature_range=(0,1)).fit_transform(input_data)\n",
    "#print(mms)"
   ]
  },
  {
   "cell_type": "code",
   "execution_count": 14,
   "id": "d8bfaff1",
   "metadata": {},
   "outputs": [],
   "source": [
    "#Normalizaton\n",
    "d_n1 = pp.normalize(input_data, norm='l1')\n",
    "#print(d_n1)"
   ]
  },
  {
   "cell_type": "code",
   "execution_count": 15,
   "id": "15c07ca5",
   "metadata": {},
   "outputs": [],
   "source": [
    "d_n2 = pp.normalize(input_data, norm='l2')\n",
    "#print(d_n2)"
   ]
  },
  {
   "cell_type": "code",
   "execution_count": 29,
   "id": "11b673fd",
   "metadata": {},
   "outputs": [
    {
     "name": "stdout",
     "output_type": "stream",
     "text": [
      "0           Low\n",
      "1       Average\n",
      "2           Low\n",
      "3          High\n",
      "4           Low\n",
      "         ...   \n",
      "2622        Low\n",
      "2623        Low\n",
      "2624        Low\n",
      "2625       High\n",
      "2626        Low\n",
      "Name: Spending_Score, Length: 2627, dtype: object\n"
     ]
    }
   ],
   "source": [
    "import pandas as pd\n",
    "read_data = pd.read_csv('D:/11th/Al/Data/Test.csv')\n",
    "sp_read=read_data[\"Spending_Score\"]\n",
    "print(sp_read)"
   ]
  },
  {
   "cell_type": "code",
   "execution_count": null,
   "id": "3fbe1cbd",
   "metadata": {},
   "outputs": [],
   "source": []
  }
 ],
 "metadata": {
  "kernelspec": {
   "display_name": "Python 3 (ipykernel)",
   "language": "python",
   "name": "python3"
  },
  "language_info": {
   "codemirror_mode": {
    "name": "ipython",
    "version": 3
   },
   "file_extension": ".py",
   "mimetype": "text/x-python",
   "name": "python",
   "nbconvert_exporter": "python",
   "pygments_lexer": "ipython3",
   "version": "3.9.7"
  }
 },
 "nbformat": 4,
 "nbformat_minor": 5
}
